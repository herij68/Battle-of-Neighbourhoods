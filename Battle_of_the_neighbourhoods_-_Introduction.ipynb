{
 "cells": [
  {
   "cell_type": "markdown",
   "metadata": {
    "collapsed": true
   },
   "source": [
    "## Introduction"
   ]
  },
  {
   "cell_type": "markdown",
   "metadata": {},
   "source": [
    "A customer of mine would like to open an Seafood Restaurant in Arhus, Denmark. He work in the seafood business in the Faroe Islands and want to sell their best products seafood to Denmark. As young I studied in Aarhus and like the atmosphere of the town centre, so I have recommended that my customer finds a location in Aarhus, Denmark.\n",
    "\n",
    "I will try to find a spot for his seafood restaurant from several criteria:\n",
    "1. That is there must be some interesting venues close to it. That is, it must be located in an area belonging to the right cluster.\n",
    "2. It should be far away from other seafood restaurants\n",
    "3. It should be in an area without many other food venues\n",
    "\n",
    "I will make visualize all food venues and all seafood restaurants and find spots that fullfill criterias 2. and 3. \n",
    "\n",
    "To obtain criteria 1, I will separate Aarhus center in a mesh of neighbourhoods around 300 metres wide. I will look at the different neighbourhoods to see wich ones are similar in order to find a suitable location. Specifically I will make a clustering of the neighbourhoods based on venues. For instance if there are clusters with theaters or cinemas in them. I will make an k-means clustering analysis using Foursquare data.  "
   ]
  }
 ],
 "metadata": {
  "kernelspec": {
   "display_name": "Python 3",
   "language": "python",
   "name": "python3"
  },
  "language_info": {
   "codemirror_mode": {
    "name": "ipython",
    "version": 3
   },
   "file_extension": ".py",
   "mimetype": "text/x-python",
   "name": "python",
   "nbconvert_exporter": "python",
   "pygments_lexer": "ipython3",
   "version": "3.5.2"
  },
  "widgets": {
   "state": {},
   "version": "1.1.2"
  }
 },
 "nbformat": 4,
 "nbformat_minor": 1
}
