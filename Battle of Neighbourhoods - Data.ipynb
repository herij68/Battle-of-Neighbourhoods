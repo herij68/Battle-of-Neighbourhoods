{
 "cells": [
  {
   "cell_type": "markdown",
   "metadata": {
    "collapsed": true
   },
   "source": [
    "## Data"
   ]
  },
  {
   "cell_type": "markdown",
   "metadata": {},
   "source": [
    "I wil analyse the Forusquare venue data of different neighbourhoods in Aarhus (Denmark)."
   ]
  },
  {
   "cell_type": "markdown",
   "metadata": {},
   "source": [
    "### We find the most trendy neighbourhoods in Aarhus - according to Culture Trip"
   ]
  },
  {
   "cell_type": "markdown",
   "metadata": {},
   "source": [
    "The Culture Trip has chosen the most trendy neighbourhoods in Aarhus, and I will scrape their web-page for the information. But first we will import necessary packages."
   ]
  },
  {
   "cell_type": "code",
   "execution_count": 3,
   "metadata": {},
   "outputs": [],
   "source": [
    "import pandas as pd\n",
    "import numpy as np\n",
    "import urllib.request, urllib.parse, urllib.error\n",
    "import requests\n",
    "from bs4 import BeautifulSoup\n",
    "from urllib.request import urlopen"
   ]
  },
  {
   "cell_type": "code",
   "execution_count": 4,
   "metadata": {},
   "outputs": [
    {
     "data": {
      "text/html": [
       "<div>\n",
       "<style scoped>\n",
       "    .dataframe tbody tr th:only-of-type {\n",
       "        vertical-align: middle;\n",
       "    }\n",
       "\n",
       "    .dataframe tbody tr th {\n",
       "        vertical-align: top;\n",
       "    }\n",
       "\n",
       "    .dataframe thead th {\n",
       "        text-align: right;\n",
       "    }\n",
       "</style>\n",
       "<table border=\"1\" class=\"dataframe\">\n",
       "  <thead>\n",
       "    <tr style=\"text-align: right;\">\n",
       "      <th></th>\n",
       "      <th>Neighbourhoods</th>\n",
       "    </tr>\n",
       "  </thead>\n",
       "  <tbody>\n",
       "    <tr>\n",
       "      <th>0</th>\n",
       "      <td>Graven</td>\n",
       "    </tr>\n",
       "    <tr>\n",
       "      <th>1</th>\n",
       "      <td>City centre</td>\n",
       "    </tr>\n",
       "    <tr>\n",
       "      <th>2</th>\n",
       "      <td>Frederiksberg</td>\n",
       "    </tr>\n",
       "    <tr>\n",
       "      <th>3</th>\n",
       "      <td>Vestergade</td>\n",
       "    </tr>\n",
       "    <tr>\n",
       "      <th>4</th>\n",
       "      <td>Aarhus Ø</td>\n",
       "    </tr>\n",
       "    <tr>\n",
       "      <th>5</th>\n",
       "      <td>Vesterbro</td>\n",
       "    </tr>\n",
       "    <tr>\n",
       "      <th>6</th>\n",
       "      <td>Trøjborg</td>\n",
       "    </tr>\n",
       "  </tbody>\n",
       "</table>\n",
       "</div>"
      ],
      "text/plain": [
       "  Neighbourhoods\n",
       "0         Graven\n",
       "1    City centre\n",
       "2  Frederiksberg\n",
       "3     Vestergade\n",
       "4       Aarhus Ø\n",
       "5      Vesterbro\n",
       "6       Trøjborg"
      ]
     },
     "execution_count": 4,
     "metadata": {},
     "output_type": "execute_result"
    }
   ],
   "source": [
    "liste = []\n",
    "url = 'https://theculturetrip.com/europe/denmark/articles/the-most-trendy-neighbourhoods-in-aarhus/'\n",
    "html = urllib.request.urlopen(url).read()\n",
    "soup = BeautifulSoup(html, 'lxml')\n",
    "tags = soup('h2')\n",
    "for tag in tags:\n",
    "    if (str(tag.contents[0]).split(' ', 1)[0]) == 'The':\n",
    "        liste.append('Graven')\n",
    "    else:   \n",
    "        liste.append(str(tag.contents[0]))\n",
    "trend = pd.DataFrame(liste, columns=['Neighbourhoods'])\n",
    "trend"
   ]
  },
  {
   "cell_type": "markdown",
   "metadata": {},
   "source": [
    "### We find the location of these trendy neighbourhoods\n",
    "    "
   ]
  },
  {
   "cell_type": "markdown",
   "metadata": {},
   "source": [
    "We use the Nominatim geocoder in Geopy."
   ]
  },
  {
   "cell_type": "code",
   "execution_count": 7,
   "metadata": {},
   "outputs": [
    {
     "data": {
      "text/html": [
       "<div>\n",
       "<style scoped>\n",
       "    .dataframe tbody tr th:only-of-type {\n",
       "        vertical-align: middle;\n",
       "    }\n",
       "\n",
       "    .dataframe tbody tr th {\n",
       "        vertical-align: top;\n",
       "    }\n",
       "\n",
       "    .dataframe thead th {\n",
       "        text-align: right;\n",
       "    }\n",
       "</style>\n",
       "<table border=\"1\" class=\"dataframe\">\n",
       "  <thead>\n",
       "    <tr style=\"text-align: right;\">\n",
       "      <th></th>\n",
       "      <th>Neighbourhood</th>\n",
       "      <th>lat</th>\n",
       "      <th>lng</th>\n",
       "    </tr>\n",
       "  </thead>\n",
       "  <tbody>\n",
       "    <tr>\n",
       "      <th>0</th>\n",
       "      <td>Graven</td>\n",
       "      <td>56.158894</td>\n",
       "      <td>10.209434</td>\n",
       "    </tr>\n",
       "    <tr>\n",
       "      <th>1</th>\n",
       "      <td>City centre</td>\n",
       "      <td>56.149628</td>\n",
       "      <td>10.213405</td>\n",
       "    </tr>\n",
       "    <tr>\n",
       "      <th>2</th>\n",
       "      <td>Frederiksberg</td>\n",
       "      <td>56.146850</td>\n",
       "      <td>10.194690</td>\n",
       "    </tr>\n",
       "    <tr>\n",
       "      <th>3</th>\n",
       "      <td>Vestergade</td>\n",
       "      <td>56.157513</td>\n",
       "      <td>10.201332</td>\n",
       "    </tr>\n",
       "    <tr>\n",
       "      <th>4</th>\n",
       "      <td>Aarhus Ø</td>\n",
       "      <td>56.164402</td>\n",
       "      <td>10.224361</td>\n",
       "    </tr>\n",
       "    <tr>\n",
       "      <th>5</th>\n",
       "      <td>Vesterbro</td>\n",
       "      <td>56.158210</td>\n",
       "      <td>10.198991</td>\n",
       "    </tr>\n",
       "    <tr>\n",
       "      <th>6</th>\n",
       "      <td>Trøjborg</td>\n",
       "      <td>56.172778</td>\n",
       "      <td>10.215807</td>\n",
       "    </tr>\n",
       "  </tbody>\n",
       "</table>\n",
       "</div>"
      ],
      "text/plain": [
       "   Neighbourhood        lat        lng\n",
       "0         Graven  56.158894  10.209434\n",
       "1    City centre  56.149628  10.213405\n",
       "2  Frederiksberg  56.146850  10.194690\n",
       "3     Vestergade  56.157513  10.201332\n",
       "4       Aarhus Ø  56.164402  10.224361\n",
       "5      Vesterbro  56.158210  10.198991\n",
       "6       Trøjborg  56.172778  10.215807"
      ]
     },
     "execution_count": 7,
     "metadata": {},
     "output_type": "execute_result"
    }
   ],
   "source": [
    "from geopy.geocoders import Nominatim\n",
    "geolocator = Nominatim()\n",
    "knatt = pd.DataFrame({'Neighbourhood': [], 'lat': [], 'lng': []})\n",
    "for code in trend.Neighbourhoods:\n",
    "    try:\n",
    "        location = geolocator.geocode(code+\" aarhus\")\n",
    "        knatt = knatt.append({'Neighbourhood': code, 'lat': location.latitude, 'lng': location.longitude}, ignore_index=True)\n",
    "    except:\n",
    "        print(code)\n",
    "knatt"
   ]
  },
  {
   "cell_type": "markdown",
   "metadata": {},
   "source": [
    "### We import folium for plotting the neighbourhoods in a map of Aarhus"
   ]
  },
  {
   "cell_type": "markdown",
   "metadata": {},
   "source": [
    "First we import packages to handle folium."
   ]
  },
  {
   "cell_type": "code",
   "execution_count": 9,
   "metadata": {},
   "outputs": [
    {
     "name": "stdout",
     "output_type": "stream",
     "text": [
      "Fetching package metadata .............\n",
      "Solving package specifications: .\n",
      "\n",
      "Package plan for installation in environment /opt/conda/envs/DSX-Python35:\n",
      "\n",
      "The following NEW packages will be INSTALLED:\n",
      "\n",
      "    altair:  2.2.2-py35_1 conda-forge\n",
      "    branca:  0.3.1-py_0   conda-forge\n",
      "    folium:  0.5.0-py_0   conda-forge\n",
      "    vincent: 0.4.4-py_1   conda-forge\n",
      "\n",
      "altair-2.2.2-p 100% |################################| Time: 0:00:00  16.73 MB/s\n",
      "branca-0.3.1-p 100% |################################| Time: 0:00:00  34.40 MB/s\n",
      "vincent-0.4.4- 100% |################################| Time: 0:00:00  36.15 MB/s\n",
      "folium-0.5.0-p 100% |################################| Time: 0:00:00  44.69 MB/s\n",
      "Libraries imported.\n"
     ]
    }
   ],
   "source": [
    "import json # library to handle JSON files\n",
    "from pandas.io.json import json_normalize # tranform JSON file into a pandas dataframe\n",
    "\n",
    "# Matplotlib and associated plotting modules\n",
    "import matplotlib.cm as cm\n",
    "import matplotlib.colors as colors\n",
    "\n",
    "!conda install -c conda-forge folium=0.5.0 --yes\n",
    "import folium # map rendering library\n",
    "\n",
    "print('Libraries imported.')"
   ]
  },
  {
   "cell_type": "markdown",
   "metadata": {},
   "source": [
    "### The trendy neighbourhoods shown on map"
   ]
  },
  {
   "cell_type": "code",
   "execution_count": 11,
   "metadata": {},
   "outputs": [
    {
     "name": "stdout",
     "output_type": "stream",
     "text": [
      "The geograpical coordinate of Aarhus are 56.1496278, 10.2134046.\n"
     ]
    },
    {
     "data": {
      "text/html": [
       "<div style=\"width:100%;\"><div style=\"position:relative;width:100%;height:0;padding-bottom:60%;\"><iframe src=\"data:text/html;charset=utf-8;base64,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\" style=\"position:absolute;width:100%;height:100%;left:0;top:0;border:none !important;\" allowfullscreen webkitallowfullscreen mozallowfullscreen></iframe></div></div>"
      ],
      "text/plain": [
       "<folium.folium.Map at 0x7f9c4bbc3f98>"
      ]
     },
     "execution_count": 11,
     "metadata": {},
     "output_type": "execute_result"
    }
   ],
   "source": [
    "address = 'Aarhus C'\n",
    "\n",
    "geolocator = Nominatim(user_agent=\"aarhus_explorer\")\n",
    "location = geolocator.geocode(address)\n",
    "latitude = location.latitude\n",
    "longitude = location.longitude\n",
    "print('The geograpical coordinate of Aarhus are {}, {}.'.format(latitude, longitude))\n",
    "\n",
    "# create map of Aarhus using latitude and longitude values\n",
    "map_aarhus = folium.Map(location=[latitude, longitude], zoom_start=14)\n",
    "\n",
    "# add markers to map\n",
    "for lat, lng, neighbourhood in zip(knatt['lat'], knatt['lng'], knatt['Neighbourhood']):\n",
    "    label = '{}'.format(neighbourhood)\n",
    "    label = folium.Popup(label, parse_html=True)\n",
    "    folium.CircleMarker(\n",
    "        [lat, lng],\n",
    "        radius=5,\n",
    "        popup=label,\n",
    "        color='blue',\n",
    "        fill=True,\n",
    "        fill_color='#3186cc',\n",
    "        fill_opacity=0.7,\n",
    "        parse_html=False).add_to(map_aarhus)  \n",
    "    \n",
    "map_aarhus"
   ]
  },
  {
   "cell_type": "markdown",
   "metadata": {},
   "source": [
    "### We find the \"food\" venus in the neighbourhoods"
   ]
  },
  {
   "cell_type": "code",
   "execution_count": 14,
   "metadata": {},
   "outputs": [
    {
     "name": "stdout",
     "output_type": "stream",
     "text": [
      "Your credentails:\n",
      "CLIENT_ID: 1APIKEUUY3N0O0CG22IPYPWFVL33NLZPJN4RVSHXBO315QIS\n",
      "CLIENT_SECRET:Y21WCG50Q5S4VLNYQOFIUQ1IHBSQTDUWLDS0NVQX1QBXIDQU\n",
      "Graven\n",
      "City centre\n",
      "Frederiksberg\n",
      "Vestergade\n",
      "Aarhus Ø\n",
      "Vesterbro\n",
      "Trøjborg\n"
     ]
    },
    {
     "data": {
      "text/html": [
       "<div>\n",
       "<style scoped>\n",
       "    .dataframe tbody tr th:only-of-type {\n",
       "        vertical-align: middle;\n",
       "    }\n",
       "\n",
       "    .dataframe tbody tr th {\n",
       "        vertical-align: top;\n",
       "    }\n",
       "\n",
       "    .dataframe thead th {\n",
       "        text-align: right;\n",
       "    }\n",
       "</style>\n",
       "<table border=\"1\" class=\"dataframe\">\n",
       "  <thead>\n",
       "    <tr style=\"text-align: right;\">\n",
       "      <th></th>\n",
       "      <th>Neighbourhood</th>\n",
       "      <th>Neighbourhood Latitude</th>\n",
       "      <th>Neighbourhood Longitude</th>\n",
       "      <th>Venue</th>\n",
       "      <th>Venue Latitude</th>\n",
       "      <th>Venue Longitude</th>\n",
       "      <th>Venue Category</th>\n",
       "    </tr>\n",
       "  </thead>\n",
       "  <tbody>\n",
       "    <tr>\n",
       "      <th>0</th>\n",
       "      <td>Graven</td>\n",
       "      <td>56.158894</td>\n",
       "      <td>10.209434</td>\n",
       "      <td>Café Drudenfuss</td>\n",
       "      <td>56.158923</td>\n",
       "      <td>10.209439</td>\n",
       "      <td>Café</td>\n",
       "    </tr>\n",
       "    <tr>\n",
       "      <th>1</th>\n",
       "      <td>Graven</td>\n",
       "      <td>56.158894</td>\n",
       "      <td>10.209434</td>\n",
       "      <td>Vaca - Mexican Finger Food</td>\n",
       "      <td>56.158121</td>\n",
       "      <td>10.211954</td>\n",
       "      <td>Mexican Restaurant</td>\n",
       "    </tr>\n",
       "    <tr>\n",
       "      <th>2</th>\n",
       "      <td>Graven</td>\n",
       "      <td>56.158894</td>\n",
       "      <td>10.209434</td>\n",
       "      <td>Chido Mexican Grill</td>\n",
       "      <td>56.159684</td>\n",
       "      <td>10.212708</td>\n",
       "      <td>Mexican Restaurant</td>\n",
       "    </tr>\n",
       "    <tr>\n",
       "      <th>3</th>\n",
       "      <td>Graven</td>\n",
       "      <td>56.158894</td>\n",
       "      <td>10.209434</td>\n",
       "      <td>Langhoff &amp; Juul</td>\n",
       "      <td>56.159547</td>\n",
       "      <td>10.207843</td>\n",
       "      <td>Café</td>\n",
       "    </tr>\n",
       "    <tr>\n",
       "      <th>4</th>\n",
       "      <td>Graven</td>\n",
       "      <td>56.158894</td>\n",
       "      <td>10.209434</td>\n",
       "      <td>Nummer 24</td>\n",
       "      <td>56.158794</td>\n",
       "      <td>10.210059</td>\n",
       "      <td>Bakery</td>\n",
       "    </tr>\n",
       "  </tbody>\n",
       "</table>\n",
       "</div>"
      ],
      "text/plain": [
       "  Neighbourhood  Neighbourhood Latitude  Neighbourhood Longitude  \\\n",
       "0        Graven               56.158894                10.209434   \n",
       "1        Graven               56.158894                10.209434   \n",
       "2        Graven               56.158894                10.209434   \n",
       "3        Graven               56.158894                10.209434   \n",
       "4        Graven               56.158894                10.209434   \n",
       "\n",
       "                        Venue  Venue Latitude  Venue Longitude  \\\n",
       "0             Café Drudenfuss       56.158923        10.209439   \n",
       "1  Vaca - Mexican Finger Food       56.158121        10.211954   \n",
       "2         Chido Mexican Grill       56.159684        10.212708   \n",
       "3             Langhoff & Juul       56.159547        10.207843   \n",
       "4                   Nummer 24       56.158794        10.210059   \n",
       "\n",
       "       Venue Category  \n",
       "0                Café  \n",
       "1  Mexican Restaurant  \n",
       "2  Mexican Restaurant  \n",
       "3                Café  \n",
       "4              Bakery  "
      ]
     },
     "execution_count": 14,
     "metadata": {},
     "output_type": "execute_result"
    }
   ],
   "source": [
    "CLIENT_ID = '1APIKEUUY3N0O0CG22IPYPWFVL33NLZPJN4RVSHXBO315QIS' # your Foursquare ID\n",
    "CLIENT_SECRET = 'Y21WCG50Q5S4VLNYQOFIUQ1IHBSQTDUWLDS0NVQX1QBXIDQU' # your Foursquare Secret\n",
    "VERSION = '20180605' # Foursquare API version\n",
    "\n",
    "print('Your credentails:')\n",
    "print('CLIENT_ID: ' + CLIENT_ID)\n",
    "print('CLIENT_SECRET:' + CLIENT_SECRET)\n",
    "\n",
    "food_categories = '4d4b7105d754a06374d81259'\n",
    "seafood_category = '4bf58dd8d48988d1ce941735' #This is not used for now but mayby later\n",
    "\n",
    "\n",
    "#define function to get near by venues in each naighborhood\n",
    "def getNearbyVenues(names, latitudes, longitudes, radius=500, LIMIT=300):\n",
    "    \n",
    "    venues_list=[]\n",
    "    for name, lat, lng in zip(names, latitudes, longitudes):\n",
    "        print(name)\n",
    "            \n",
    "        # create the API request URL\n",
    "        url = 'https://api.foursquare.com/v2/venues/explore?&client_id={}&client_secret={}&v={}&ll={},{}&categoryId={}&radius={}&limit={}'.format(\n",
    "            CLIENT_ID, \n",
    "            CLIENT_SECRET, \n",
    "            VERSION, \n",
    "            lat, \n",
    "            lng,\n",
    "            food_categories,\n",
    "            radius, \n",
    "            LIMIT)\n",
    "            \n",
    "        # make the GET request\n",
    "        results = requests.get(url).json()[\"response\"]['groups'][0]['items']\n",
    "        \n",
    "        # return only relevant information for each nearby venue\n",
    "        venues_list.append([(\n",
    "            name, \n",
    "            lat, \n",
    "            lng, \n",
    "            v['venue']['name'], \n",
    "            v['venue']['location']['lat'], \n",
    "            v['venue']['location']['lng'],  \n",
    "            v['venue']['categories'][0]['name']) for v in results])\n",
    "\n",
    "    nearby_venues = pd.DataFrame([item for venue_list in venues_list for item in venue_list])\n",
    "    nearby_venues.columns = ['Neighbourhood', \n",
    "                    'Neighbourhood Latitude', \n",
    "                    'Neighbourhood Longitude', \n",
    "                    'Venue', \n",
    "                    'Venue Latitude', \n",
    "                    'Venue Longitude', \n",
    "                    'Venue Category']\n",
    "    \n",
    "    return(nearby_venues)\n",
    "\n",
    "# Get the venues to each neighbourhood in Aarhus\n",
    "aarhus_venues = getNearbyVenues(names=knatt['Neighbourhood'],\n",
    "                                   latitudes=knatt['lat'],\n",
    "                                   longitudes=knatt['lng']\n",
    "                                  )\n",
    "\n",
    "\n",
    "aarhus_venues.head()"
   ]
  },
  {
   "cell_type": "markdown",
   "metadata": {},
   "source": [
    "### With this data we can make a k-mean clustering analysis in order to recomend a location for the new seafood restaurant"
   ]
  },
  {
   "cell_type": "code",
   "execution_count": null,
   "metadata": {},
   "outputs": [],
   "source": []
  }
 ],
 "metadata": {
  "kernelspec": {
   "display_name": "Python 3.5",
   "language": "python",
   "name": "python3"
  },
  "language_info": {
   "codemirror_mode": {
    "name": "ipython",
    "version": 3
   },
   "file_extension": ".py",
   "mimetype": "text/x-python",
   "name": "python",
   "nbconvert_exporter": "python",
   "pygments_lexer": "ipython3",
   "version": "3.5.5"
  }
 },
 "nbformat": 4,
 "nbformat_minor": 1
}
