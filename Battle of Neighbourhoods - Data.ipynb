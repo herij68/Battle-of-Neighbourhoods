{
 "cells": [
  {
   "cell_type": "markdown",
   "metadata": {
    "collapsed": true
   },
   "source": [
    "## Data"
   ]
  },
  {
   "cell_type": "markdown",
   "metadata": {},
   "source": [
    "I wil analyse the charachteristics of Tórshavn (FO), Aarhus (DK) and Reykjavik (IS).\n",
    "\n",
    "Therefore I am going to use Foresquare data for these cities. In the analysis I also need population data grouped on age for these cities.\n",
    "\n",
    "The data from Aarhus can be found here: https://ledelsesinformation.aarhuskommune.dk/aarhus-i-tal/default.aspx?doc=vfs://Global/Befolkning-demografi.xview\n",
    "\n",
    "The data from the Faroes can be found here: https://statbank.hagstova.fo/pxweb/fo/H2/H2__IB__IB01/fo_aldbygd.px/?rxid=284ebd11-bcb7-4d96-b6fb-77b0cdc37ae4  \n",
    "\n",
    "The data for Reykjavik can be found here: https://px.hagstofa.is/pxis/pxweb/is/Ibuar/Ibuar__mannfjoldi__2_byggdir__Byggdakjarnarhverfi/MAN03301.px\n",
    "\n",
    "I will make requests in the city data and group them appropriatly. "
   ]
  }
 ],
 "metadata": {
  "kernelspec": {
   "display_name": "Python 3.5",
   "language": "python",
   "name": "python3"
  },
  "language_info": {
   "codemirror_mode": {
    "name": "ipython",
    "version": 3
   },
   "file_extension": ".py",
   "mimetype": "text/x-python",
   "name": "python",
   "nbconvert_exporter": "python",
   "pygments_lexer": "ipython3",
   "version": "3.5.5"
  }
 },
 "nbformat": 4,
 "nbformat_minor": 1
}
