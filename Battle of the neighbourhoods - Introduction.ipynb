{
 "cells": [
  {
   "cell_type": "markdown",
   "metadata": {
    "collapsed": true
   },
   "source": [
    "## Introduction"
   ]
  },
  {
   "cell_type": "markdown",
   "metadata": {},
   "source": [
    "I would like to compare Tórshavn, the capital of Faroe Islands, to other cities.\n",
    "\n",
    "Tórshavn is the main city of the Faroes, but is rural compared to central Europe. It could be interesting to find out if there are certain distinctive features of the venues of the different cities that attract younger people and therefore can secure a stable population growth. Is there a certain mix of venues that attract certain people? In this respect I would like to analyse the characteristics of Reykjavik in Iceland, Aarhus in Denmark and Tórshavn in the Faroes.\n",
    "\n",
    "Is there some facilities that are missing in Tórshavn in order to attract young people? That is: can we make some recommendation to the urban planners at the municipality of Tórshavn?"
   ]
  }
 ],
 "metadata": {
  "kernelspec": {
   "display_name": "Python 3.5",
   "language": "python",
   "name": "python3"
  },
  "language_info": {
   "codemirror_mode": {
    "name": "ipython",
    "version": 3
   },
   "file_extension": ".py",
   "mimetype": "text/x-python",
   "name": "python",
   "nbconvert_exporter": "python",
   "pygments_lexer": "ipython3",
   "version": "3.5.5"
  }
 },
 "nbformat": 4,
 "nbformat_minor": 1
}
