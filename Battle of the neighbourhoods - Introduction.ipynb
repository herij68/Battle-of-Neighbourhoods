{
 "cells": [
  {
   "cell_type": "markdown",
   "metadata": {
    "collapsed": true
   },
   "source": [
    "## Introduction"
   ]
  },
  {
   "cell_type": "markdown",
   "metadata": {},
   "source": [
    "I customer of mine would like to open an Seafood Restaurant in Arhus, Denmark. He work in the seafood business in the Faroe Islands and want to sell their best products seafood to Denmark. As young I studied in Aarhus and like the atmosphere of the town centre, so I have recommended that my customer finds a location in Aarhus.\n",
    "\n",
    "The city may hava changed since I lived there years ago, so I want to open the restaurant in a neighbourhood concidered trendy by people. I choose to look at the valuation of Culture Trip - https://theculturetrip.com/. In one of their articles they hava chosen the most trendy neighbourhoods in Aarhus, and I will make an analysis of these neighbourhoods in order to find a place for the restaurant.  \n",
    "\n",
    "I will look at the the different neighbourhoods to see ich ones are similar in order to find a suitable placement. Specifically I will make a clustering of the neighbourhoods on the basis of the \"food\" venues. I will make an k-means clustering analysis using Foursquare data.  "
   ]
  }
 ],
 "metadata": {
  "kernelspec": {
   "display_name": "Python 3.5",
   "language": "python",
   "name": "python3"
  },
  "language_info": {
   "codemirror_mode": {
    "name": "ipython",
    "version": 3
   },
   "file_extension": ".py",
   "mimetype": "text/x-python",
   "name": "python",
   "nbconvert_exporter": "python",
   "pygments_lexer": "ipython3",
   "version": "3.5.5"
  }
 },
 "nbformat": 4,
 "nbformat_minor": 1
}
